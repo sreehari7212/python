{
 "cells": [
  {
   "cell_type": "raw",
   "id": "47a278be-b959-415f-8c5a-ccae8c56b47d",
   "metadata": {},
   "source": [
    "Write a program which can compute the factorial of a given numbers.\n",
    "The results should be printed in a comma-separated sequence on a single line.\n",
    "Suppose the following input is supplied to the program:"
   ]
  },
  {
   "cell_type": "code",
   "execution_count": 17,
   "id": "1fbbabb8-4e61-4567-a906-a1517928d7ba",
   "metadata": {},
   "outputs": [
    {
     "name": "stdout",
     "output_type": "stream",
     "text": [
      "24\n"
     ]
    }
   ],
   "source": [
    "n=4\n",
    "factorial=1\n",
    "for i in range (1,n+1):\n",
    "    factorial=factorial*i\n",
    "print(factorial)"
   ]
  },
  {
   "cell_type": "raw",
   "id": "8bad5426-9cae-4d1c-be4b-a38ff57e2cfd",
   "metadata": {},
   "source": [
    "With a given integral number n, write a program to generate a dictionary that contains (i, i*i) such that is an integral number between 1 and n (both included). and then the program should print the dictionary.\n",
    "Suppose the following input is supplied to the program"
   ]
  },
  {
   "cell_type": "code",
   "execution_count": 18,
   "id": "a11dcd19-e16a-4c1a-b2a4-7ad837b02bce",
   "metadata": {},
   "outputs": [
    {
     "data": {
      "text/plain": [
       "{1: 1, 2: 4, 3: 9, 4: 16, 5: 25, 6: 36}"
      ]
     },
     "execution_count": 18,
     "metadata": {},
     "output_type": "execute_result"
    }
   ],
   "source": [
    "n=(1,2,3,4,5,6)\n",
    "{i:i*i for i in n}"
   ]
  },
  {
   "cell_type": "raw",
   "id": "6f568a48-4fe1-4a2e-9bfa-bc87d05e1050",
   "metadata": {},
   "source": [
    "Write a program that calculates and prints the value according to the given formula:\n",
    "Q = Square root of [(2 * C * D)/H]\n",
    "Following are the fixed values of C and H:\n",
    "C is 50. H is 30.\n",
    "D is the variable whose values should be input to your program in a comma-separated sequence.\n",
    "Example\n",
    "Let us assume the following comma separated input sequence is given to the program:\n",
    "100,150,180\n",
    "The output of the program should be:\n",
    "18,22,24"
   ]
  },
  {
   "cell_type": "code",
   "execution_count": 49,
   "id": "604c23f8-4f65-4f48-a83a-90140d719237",
   "metadata": {},
   "outputs": [
    {
     "name": "stdin",
     "output_type": "stream",
     "text": [
      "enter the values of D(comma-seperated): 3,4,5,6,7,8\n"
     ]
    },
    {
     "name": "stdout",
     "output_type": "stream",
     "text": [
      "3\n",
      "4\n",
      "4\n",
      "4\n",
      "5\n",
      "5\n"
     ]
    }
   ],
   "source": [
    "import math\n",
    "c=50\n",
    "h=30\n",
    "n=10\n",
    "D=input(\"enter the values of D(comma-seperated):\")\n",
    "f=D.split(\",\")\n",
    "for d in f:\n",
    "    q=math.sqrt((2*c*int(d))/h)\n",
    "    print(round(q))\n"
   ]
  },
  {
   "cell_type": "raw",
   "id": "d5aeb008-8b02-4cf8-ae5a-6b89511c0e65",
   "metadata": {},
   "source": [
    "\n",
    "Use a list comprehension to square each odd number in a list."
   ]
  },
  {
   "cell_type": "code",
   "execution_count": 83,
   "id": "94ec1d0b-6f5d-4380-9995-907f3794c970",
   "metadata": {},
   "outputs": [
    {
     "data": {
      "text/plain": [
       "[1, 9, 25, 49]"
      ]
     },
     "execution_count": 83,
     "metadata": {},
     "output_type": "execute_result"
    }
   ],
   "source": [
    "[x*x for x in range(1,9)if (x%2)!=0]"
   ]
  },
  {
   "cell_type": "code",
   "execution_count": null,
   "id": "0fe7a40c-48b3-4a84-a6b5-9628b10764f0",
   "metadata": {},
   "outputs": [],
   "source": []
  }
 ],
 "metadata": {
  "kernelspec": {
   "display_name": "Python 3 (ipykernel)",
   "language": "python",
   "name": "python3"
  },
  "language_info": {
   "codemirror_mode": {
    "name": "ipython",
    "version": 3
   },
   "file_extension": ".py",
   "mimetype": "text/x-python",
   "name": "python",
   "nbconvert_exporter": "python",
   "pygments_lexer": "ipython3",
   "version": "3.9.13"
  }
 },
 "nbformat": 4,
 "nbformat_minor": 5
}
