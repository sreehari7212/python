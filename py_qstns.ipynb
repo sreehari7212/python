{
 "cells": [
  {
   "cell_type": "code",
   "execution_count": 2,
   "id": "c99251e3-6144-40d5-8a29-28601d2c8a86",
   "metadata": {},
   "outputs": [
    {
     "name": "stdout",
     "output_type": "stream",
     "text": [
      "print after swaping\n",
      "x= 10\n",
      "y= 5.0\n"
     ]
    }
   ],
   "source": [
    "x=5.0\n",
    "y=10\n",
    "temp=x\n",
    "x=y\n",
    "y=temp\n",
    "print(\"print after swaping\")\n",
    "print('x=', x)\n",
    "print('y=', y)"
   ]
  },
  {
   "cell_type": "code",
   "execution_count": 4,
   "id": "dd614de4-7b8f-47ed-b0c9-867ccd349ee6",
   "metadata": {},
   "outputs": [
    {
     "name": "stdout",
     "output_type": "stream",
     "text": [
      "the square root of num= 2.5\n"
     ]
    }
   ],
   "source": [
    "num=6.25\n",
    "sqrt_num=num**.5\n",
    "print(\"the square root of num=\",sqrt_num)"
   ]
  },
  {
   "cell_type": "code",
   "execution_count": 6,
   "id": "b1c74830-f3a6-4333-8b36-65bc751c3d68",
   "metadata": {},
   "outputs": [
    {
     "name": "stdout",
     "output_type": "stream",
     "text": [
      "the roots are\n",
      "(-3+0j)\n",
      "(-2+0j)\n"
     ]
    }
   ],
   "source": [
    "import cmath\n",
    "a=1\n",
    "b=5\n",
    "c=6\n",
    "d=(b**2)-(4*a*c)\n",
    "root1=(-b-cmath.sqrt(d))/(2*a)\n",
    "root2=(-b+cmath.sqrt(d))/(2*a)\n",
    "print('the roots are')\n",
    "print(root1)\n",
    "print(root2)\n",
    "                "
   ]
  },
  {
   "cell_type": "code",
   "execution_count": 11,
   "id": "8033cfa1-0440-4901-aad4-f11fb498be05",
   "metadata": {},
   "outputs": [
    {
     "name": "stdout",
     "output_type": "stream",
     "text": [
      "area of the triangle= 7.937253933193772\n"
     ]
    }
   ],
   "source": [
    "a=4\n",
    "b=4\n",
    "c=6\n",
    "s=(a+b+c)/2\n",
    "area=(s*(s-a)*(s-b)*(s-c))**0.5\n",
    "print(\"area of the triangle=\",area)"
   ]
  },
  {
   "cell_type": "code",
   "execution_count": 13,
   "id": "bbf306e0-9286-489d-90cf-0e5a44b4c4d7",
   "metadata": {},
   "outputs": [
    {
     "name": "stdout",
     "output_type": "stream",
     "text": [
      "3.4175405\n"
     ]
    }
   ],
   "source": [
    "km=5.5\n",
    "conv_fac=.621371\n",
    "miles=km*conv_fac\n",
    "print(miles)"
   ]
  },
  {
   "cell_type": "code",
   "execution_count": 16,
   "id": "1f292ab7-f297-43d7-b18c-6faf246e41b7",
   "metadata": {},
   "outputs": [
    {
     "name": "stdout",
     "output_type": "stream",
     "text": [
      "99.5\n"
     ]
    }
   ],
   "source": [
    "c=37.5\n",
    "f=((c*1.8)+32)\n",
    "print(f)"
   ]
  },
  {
   "cell_type": "code",
   "execution_count": null,
   "id": "780bfca6-844d-4534-ab76-54827011d4a2",
   "metadata": {},
   "outputs": [],
   "source": [
    "n=float(input(\"enter the number\"))\n",
    "if n>0:\n",
    "    print(\"number is positive\")\n",
    "elif n==0:\n",
    "    print(\"number is zero\")\n",
    "else:\n",
    "    print(\"number is negative\")"
   ]
  },
  {
   "cell_type": "code",
   "execution_count": 4,
   "id": "45c3e400-12c5-4b90-bb5d-87c06b3e1e94",
   "metadata": {},
   "outputs": [
    {
     "name": "stdout",
     "output_type": "stream",
     "text": [
      "not a leap year\n"
     ]
    }
   ],
   "source": [
    "year=3000\n",
    "if (year%4)==0:\n",
    "    if (year%100)==0:\n",
    "        if(year%400)==0:\n",
    "            print('is a leap year')\n",
    "        else:\n",
    "            print('not a leap year')\n",
    "    else:\n",
    "        print('is a leap year')\n",
    "else:\n",
    "    print('is not a leap year')"
   ]
  },
  {
   "cell_type": "code",
   "execution_count": 9,
   "id": "085d6f23-4575-47c4-b757-8ee170ffd073",
   "metadata": {},
   "outputs": [
    {
     "name": "stdout",
     "output_type": "stream",
     "text": [
      "n3 is greater\n"
     ]
    }
   ],
   "source": [
    "n1=300\n",
    "n2=11\n",
    "n3=800\n",
    "if n1>n2 and n1>n3:\n",
    "    print('n1 is greater than n2 and n3')\n",
    "elif n2>n1 and n2>n3:\n",
    "    print('n2 greater than n1 and n3')\n",
    "else:\n",
    "    print('n3 is greater')\n",
    "    \n",
    "  "
   ]
  },
  {
   "cell_type": "code",
   "execution_count": 11,
   "id": "1f10c640-e234-4645-8533-40f987b4ad2c",
   "metadata": {},
   "outputs": [
    {
     "name": "stdout",
     "output_type": "stream",
     "text": [
      "n is not a prime number\n"
     ]
    }
   ],
   "source": [
    "#prime number\n",
    "n=4\n",
    "if n>1:\n",
    "    for i in range(2,n):\n",
    "        if (n%i)==0:\n",
    "            print(\"n is not a prime number\")\n",
    "            \n",
    "        else:\n",
    "            print(\"is a prime number\")\n",
    "\n",
    "        break\n",
    "else:\n",
    "    print(\"is not a prime number\")"
   ]
  },
  {
   "cell_type": "code",
   "execution_count": null,
   "id": "52072171-fcd6-4ae7-a7f9-73e49793815d",
   "metadata": {},
   "outputs": [],
   "source": [
    "y=3000\n"
   ]
  },
  {
   "cell_type": "code",
   "execution_count": null,
   "id": "d91d8841-46cd-4688-b4da-b6d2d3bd02ad",
   "metadata": {},
   "outputs": [],
   "source": []
  },
  {
   "cell_type": "code",
   "execution_count": null,
   "id": "02b6a824-5481-4147-96d8-da7e8372e0f9",
   "metadata": {},
   "outputs": [],
   "source": []
  }
 ],
 "metadata": {
  "kernelspec": {
   "display_name": "Python 3 (ipykernel)",
   "language": "python",
   "name": "python3"
  },
  "language_info": {
   "codemirror_mode": {
    "name": "ipython",
    "version": 3
   },
   "file_extension": ".py",
   "mimetype": "text/x-python",
   "name": "python",
   "nbconvert_exporter": "python",
   "pygments_lexer": "ipython3",
   "version": "3.9.12"
  }
 },
 "nbformat": 4,
 "nbformat_minor": 5
}
