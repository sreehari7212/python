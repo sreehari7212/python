{
 "cells": [
  {
   "cell_type": "code",
   "execution_count": 6,
   "id": "45e6e7fc-7f2f-4df7-add3-5002969547ba",
   "metadata": {},
   "outputs": [
    {
     "name": "stdout",
     "output_type": "stream",
     "text": [
      "b is present\n"
     ]
    },
    {
     "data": {
      "text/plain": [
       "2"
      ]
     },
     "execution_count": 6,
     "metadata": {},
     "output_type": "execute_result"
    }
   ],
   "source": [
    "def rollno(x):\n",
    "    x=b\n",
    "    a=[2,3,4,5,6,7]\n",
    "    if b in a:\n",
    "        print(\"b is present\")\n",
    "    else:\n",
    "        print(\"b is absent\")\n",
    "    return(x)\n",
    "rollno(11)"
   ]
  },
  {
   "cell_type": "code",
   "execution_count": 13,
   "id": "0f499810-ea35-4d20-ae4e-8d7cb5d08ea1",
   "metadata": {},
   "outputs": [
    {
     "name": "stdout",
     "output_type": "stream",
     "text": [
      "b is present\n"
     ]
    },
    {
     "data": {
      "text/plain": [
       "2"
      ]
     },
     "execution_count": 13,
     "metadata": {},
     "output_type": "execute_result"
    }
   ],
   "source": [
    "def rollno(x):\n",
    "    a=[2,3,4,5,6,7]\n",
    "    if x in a:\n",
    "        print(\"b is present\")\n",
    "    else:\n",
    "        print(\"b is absent\")\n",
    "    return(x)\n",
    "rollno(2)"
   ]
  },
  {
   "cell_type": "code",
   "execution_count": 2,
   "id": "b1e083e0-1ff7-48dc-bc5a-6079c9f3b86d",
   "metadata": {},
   "outputs": [],
   "source": [
    "def nth_term(n):\n",
    "    if n % 10 == 0:\n",
    "        return 10\n",
    "    elif n % 5 == 0:\n",
    "        return 5\n",
    "    elif n % 2 == 0:\n",
    "        return n*n+n\n",
    "    else:\n",
    "        return n+n"
   ]
  },
  {
   "cell_type": "code",
   "execution_count": null,
   "id": "db6c2efc-f9cb-45ba-bd32-53cc93d6d51d",
   "metadata": {},
   "outputs": [],
   "source": []
  }
 ],
 "metadata": {
  "kernelspec": {
   "display_name": "Python 3 (ipykernel)",
   "language": "python",
   "name": "python3"
  },
  "language_info": {
   "codemirror_mode": {
    "name": "ipython",
    "version": 3
   },
   "file_extension": ".py",
   "mimetype": "text/x-python",
   "name": "python",
   "nbconvert_exporter": "python",
   "pygments_lexer": "ipython3",
   "version": "3.9.13"
  }
 },
 "nbformat": 4,
 "nbformat_minor": 5
}
