{
 "cells": [
  {
   "cell_type": "code",
   "execution_count": 11,
   "id": "0a10490a-edb8-4bda-b685-4e3de47b19d1",
   "metadata": {},
   "outputs": [
    {
     "name": "stdin",
     "output_type": "stream",
     "text": [
      "enter the number 6\n"
     ]
    },
    {
     "name": "stdout",
     "output_type": "stream",
     "text": [
      "the sum is  21\n"
     ]
    }
   ],
   "source": [
    "#sum of postive number\n",
    "n=int(input('enter the number'))\n",
    "if n<=0:\n",
    "    print(\"enter the positive number\")\n",
    "else:\n",
    "    sum=0\n",
    "    while(n>0):\n",
    "        sum=sum+ n\n",
    "        n-=1\n",
    "print(\"the sum is \",sum)"
   ]
  },
  {
   "cell_type": "code",
   "execution_count": 21,
   "id": "862b23ea-0a5f-438a-b9f4-e70127431b5b",
   "metadata": {},
   "outputs": [
    {
     "name": "stdin",
     "output_type": "stream",
     "text": [
      "enter the number 3\n"
     ]
    },
    {
     "name": "stdout",
     "output_type": "stream",
     "text": [
      "6\n"
     ]
    }
   ],
   "source": [
    "#factorial of a number\n",
    "n=int(input(\"enter the number\"))\n",
    "factorial=1\n",
    "if n<0:\n",
    "    print(\"negative number doesnt have factorial\")\n",
    "elif n==0:\n",
    "    print(\"factorial of zero is always one\")\n",
    "else:\n",
    "    for i in range (1,n+1):\n",
    "          factorial=factorial*i\n",
    "    print(factorial)\n",
    "          "
   ]
  },
  {
   "cell_type": "code",
   "execution_count": 36,
   "id": "a504b06a-1199-4cdd-adbe-4343d05c2a8f",
   "metadata": {},
   "outputs": [
    {
     "name": "stdin",
     "output_type": "stream",
     "text": [
      "enter the number 8\n"
     ]
    },
    {
     "name": "stdout",
     "output_type": "stream",
     "text": [
      "8  is not a prime number\n"
     ]
    }
   ],
   "source": [
    "#check wheather the number is prime or not\n",
    "n=int(input(\"enter the number\"))\n",
    "if n>1:\n",
    "    for i in range (2,n):\n",
    "        if (n%i)==0:\n",
    "            print(n,\" is not a prime number\")\n",
    "            break\n",
    "        else:\n",
    "            print(n,\"is a prime number\")\n",
    "            \n",
    "        \n",
    "            "
   ]
  },
  {
   "cell_type": "code",
   "execution_count": 5,
   "id": "c58cf429-f65e-4ab1-80d3-b5490efa27c3",
   "metadata": {},
   "outputs": [
    {
     "name": "stdin",
     "output_type": "stream",
     "text": [
      "enter the number 123\n"
     ]
    },
    {
     "name": "stdout",
     "output_type": "stream",
     "text": [
      "n is not a palidrome\n"
     ]
    }
   ],
   "source": [
    "#palindrome\n",
    "n=int(input(\"enter the number\"))\n",
    "rev=0\n",
    "temp=n\n",
    "while(temp>0):\n",
    "    dig=temp%10\n",
    "    rev=(rev*10)+dig\n",
    "    temp=temp//10\n",
    "if (n==rev):\n",
    "    print(n ,\"is a palindrome number\")\n",
    "else:\n",
    "    print(\"n is not a palidrome\")"
   ]
  },
  {
   "cell_type": "code",
   "execution_count": null,
   "id": "ce81d1b6-833e-49a2-9af8-0e33b79d7294",
   "metadata": {},
   "outputs": [],
   "source": [
    "n=10\n",
    "count=1\n",
    "while count<11:\n",
    "    print(count*n)\n",
    "    count=count+1\n"
   ]
  },
  {
   "cell_type": "code",
   "execution_count": 7,
   "id": "d9dfe64a-12e0-4dd3-acae-018eb10a2820",
   "metadata": {},
   "outputs": [
    {
     "name": "stdout",
     "output_type": "stream",
     "text": [
      "sum= 6\n"
     ]
    }
   ],
   "source": [
    "n=3\n",
    "if n<=0:\n",
    "    print(\"enter a positive number\")\n",
    "else:\n",
    "    sum=0\n",
    "    for i in range (1,n+1):\n",
    "        sum=sum+n\n",
    "        n=n-1\n",
    "    print(\"sum=\",sum)\n",
    "        "
   ]
  },
  {
   "cell_type": "code",
   "execution_count": 10,
   "id": "b6f9c4be-b235-4c4b-817f-20f70513122c",
   "metadata": {},
   "outputs": [
    {
     "name": "stdout",
     "output_type": "stream",
     "text": [
      "6\n"
     ]
    }
   ],
   "source": [
    "n=3\n",
    "factorial=1\n",
    "if n<0:\n",
    "    print(\"enter a postive number\")\n",
    "elif n==0:\n",
    "    print(\"factorial of zero is 1\")\n",
    "else:\n",
    "    for i in range (1,n+1):\n",
    "        factorial=factorial*i\n",
    "    print(factorial)"
   ]
  },
  {
   "cell_type": "code",
   "execution_count": 24,
   "id": "7c184323-062c-4ac5-b673-087864944f68",
   "metadata": {},
   "outputs": [
    {
     "name": "stdout",
     "output_type": "stream",
     "text": [
      "[3, 5, 7, 11]\n"
     ]
    }
   ],
   "source": [
    "n=[3,4,5,6,7,8,9,10,11]\n",
    "prime=[]\n",
    "for i in n:\n",
    "    c=0\n",
    "    for j in range (1,i):\n",
    "        if i%j==0:\n",
    "            c+=1\n",
    "    if c==1:\n",
    "        prime.append(i)\n",
    "print(prime)\n",
    "\n",
    "        \n",
    "        \n",
    "        "
   ]
  },
  {
   "cell_type": "code",
   "execution_count": null,
   "id": "86fce54e-e031-4902-b36d-96a6b5ff78f7",
   "metadata": {},
   "outputs": [],
   "source": [
    "n=[6,45,56,6]\n",
    "max=[]\n",
    "for i in n:\n",
    "    c=0\n",
    "    for j in range(1,i):\n",
    "        max.append(max"
   ]
  },
  {
   "cell_type": "code",
   "execution_count": null,
   "id": "6fda7f79-4994-4a21-8adc-846b2d938b59",
   "metadata": {},
   "outputs": [],
   "source": [
    "n=121\n",
    "rev=0\n",
    "temp=n\n",
    "while temp>0:\n",
    "    dig=temp%10\n",
    "    rev=(rev*10)+dig\n",
    "    temp=temp//10\n",
    "if rev==n:\n",
    "    print(\"is a palindrome\")\n",
    "else:\n",
    "    print(\"is not a palindrome\")\n",
    "    "
   ]
  },
  {
   "cell_type": "code",
   "execution_count": null,
   "id": "e68406f3-1619-49eb-b4a3-517d4dbcba40",
   "metadata": {},
   "outputs": [],
   "source": [
    "n=5\n",
    "for row in range (1,n+1):\n",
    "    print(\"\"*(n-row)+\"*\"*row\n",
    "    "
   ]
  },
  {
   "cell_type": "code",
   "execution_count": null,
   "id": "7104e775-983f-4c6c-a2db-4f64306b2420",
   "metadata": {},
   "outputs": [],
   "source": [
    "n=5\n",
    "for row in range (1,n+1):\n",
    "    print(\"*\"*row)"
   ]
  }
 ],
 "metadata": {
  "kernelspec": {
   "display_name": "Python 3 (ipykernel)",
   "language": "python",
   "name": "python3"
  },
  "language_info": {
   "codemirror_mode": {
    "name": "ipython",
    "version": 3
   },
   "file_extension": ".py",
   "mimetype": "text/x-python",
   "name": "python",
   "nbconvert_exporter": "python",
   "pygments_lexer": "ipython3",
   "version": "3.9.13"
  }
 },
 "nbformat": 4,
 "nbformat_minor": 5
}
