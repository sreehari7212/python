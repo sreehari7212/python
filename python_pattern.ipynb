{
 "cells": [
  {
   "cell_type": "code",
   "execution_count": null,
   "id": "1c3d8cf8-3ac5-47f1-8f79-9a5409cdf2e4",
   "metadata": {},
   "outputs": [],
   "source": []
  },
  {
   "cell_type": "code",
   "execution_count": 3,
   "id": "76fb1c38-782f-4ee8-b0da-ab1d0e0fffd0",
   "metadata": {},
   "outputs": [
    {
     "name": "stdout",
     "output_type": "stream",
     "text": [
      "*\n",
      "**\n",
      "***\n",
      "****\n",
      "*****\n"
     ]
    }
   ],
   "source": [
    "n=5\n",
    "for row in range (1,n+1):\n",
    "    print(\"*\"*row)"
   ]
  },
  {
   "cell_type": "code",
   "execution_count": 4,
   "id": "ebaa4f3a-833b-4ef4-86dd-3c5192101685",
   "metadata": {},
   "outputs": [
    {
     "name": "stdout",
     "output_type": "stream",
     "text": [
      "*\n",
      "**\n",
      "***\n",
      "****\n",
      "*****\n"
     ]
    }
   ],
   "source": [
    "n=5\n",
    "for row in range(1,n+1):\n",
    "    print(\"\"*(n-row)+\"*\"*row)"
   ]
  },
  {
   "cell_type": "code",
   "execution_count": 23,
   "id": "bfa666f7-4894-4ebb-909a-ed459a131bf4",
   "metadata": {},
   "outputs": [
    {
     "name": "stdout",
     "output_type": "stream",
     "text": [
      "    **    \n",
      "   ****   \n",
      "  ******  \n",
      " ******** \n",
      "**********\n"
     ]
    }
   ],
   "source": [
    "n=5\n",
    "for row in range(1,n+1):\n",
    "    print(\" \"*(n-row)+\"*\"*(row)+\"*\"*(row)+\" \"*(n-row))"
   ]
  },
  {
   "cell_type": "code",
   "execution_count": 2,
   "id": "d910d01b-43f2-4222-9e3d-f5eaad605e6d",
   "metadata": {},
   "outputs": [
    {
     "name": "stdout",
     "output_type": "stream",
     "text": [
      "*\n",
      "**\n",
      "***\n",
      "****\n",
      "*****\n"
     ]
    }
   ],
   "source": [
    "n=5\n",
    "for row in range (1,n+1):\n",
    "    print(\"*\"*row)"
   ]
  },
  {
   "cell_type": "code",
   "execution_count": 12,
   "id": "27b7ea92-c882-4989-aafb-78fdf95ebbd2",
   "metadata": {},
   "outputs": [
    {
     "name": "stdout",
     "output_type": "stream",
     "text": [
      "    *\n",
      "   **\n",
      "  ***\n",
      " ****\n",
      "*****\n"
     ]
    }
   ],
   "source": [
    "n=5\n",
    "for row in range (1,n+1):\n",
    "    print(\" \"*(n-row)+\"*\"*row)"
   ]
  },
  {
   "cell_type": "code",
   "execution_count": 8,
   "id": "9d8e3cf9-8ee3-457f-b64e-449fc34ffb6c",
   "metadata": {},
   "outputs": [
    {
     "name": "stdout",
     "output_type": "stream",
     "text": [
      "\n",
      "1 \n",
      "2 2 \n",
      "3 3 3 \n",
      "4 4 4 4 \n"
     ]
    }
   ],
   "source": [
    "n=5\n",
    "for i in range(row):\n",
    "    for j in range(i):\n",
    "        print(i, end=' ')\n",
    "    print('')"
   ]
  },
  {
   "cell_type": "code",
   "execution_count": 31,
   "id": "9da9d806-3cba-4f23-9a16-693b6a436815",
   "metadata": {},
   "outputs": [
    {
     "name": "stdout",
     "output_type": "stream",
     "text": [
      "1 \n",
      "2 2 \n",
      "3 3 3 \n",
      "4 4 4 4 \n",
      "5 5 5 5 5 \n"
     ]
    }
   ],
   "source": [
    "n=5\n",
    "for i in range(1,n+1):\n",
    "    for j in range(i):\n",
    "        print(i,end=' ')\n",
    "    print('')"
   ]
  },
  {
   "cell_type": "code",
   "execution_count": 33,
   "id": "c98f9f6c-832c-4fe6-850f-803f2483b45a",
   "metadata": {},
   "outputs": [
    {
     "name": "stdout",
     "output_type": "stream",
     "text": [
      "*\n",
      "**\n",
      "***\n",
      "****\n",
      "*****\n"
     ]
    }
   ],
   "source": [
    "def x(n):\n",
    "    for i in range (0,n):\n",
    "        for j in range (0,i+1):\n",
    "            print('*',end='')\n",
    "        print(\"\\r\")\n",
    "n=5\n",
    "x(n)"
   ]
  },
  {
   "cell_type": "code",
   "execution_count": 8,
   "id": "1600318d-bed0-4991-aa20-b8c8f565973c",
   "metadata": {},
   "outputs": [
    {
     "name": "stdout",
     "output_type": "stream",
     "text": [
      "     \n",
      "    *\n",
      "   **\n",
      "  ***\n",
      " ****\n",
      "*****\n"
     ]
    }
   ],
   "source": [
    "def x(n):\n",
    "    for row in range(0,n+1):\n",
    "        print(' '*(n-row)+('*'*row),end=\"\")\n",
    "        print(\"\\r\")\n",
    "n=5\n",
    "x(n)"
   ]
  },
  {
   "cell_type": "code",
   "execution_count": 2,
   "id": "d672c02a-949f-4f63-98ca-b359a8511068",
   "metadata": {},
   "outputs": [
    {
     "name": "stdout",
     "output_type": "stream",
     "text": [
      "*\n",
      "**\n",
      "***\n",
      "****\n",
      "*****\n"
     ]
    }
   ],
   "source": [
    "n=5\n",
    "for row in range(1,n+1):\n",
    "    print(\"*\"*row)\n",
    "    "
   ]
  },
  {
   "cell_type": "code",
   "execution_count": 5,
   "id": "b3b5908c-f2f8-4656-8404-6035fb319f0c",
   "metadata": {},
   "outputs": [
    {
     "name": "stdout",
     "output_type": "stream",
     "text": [
      "    *\n",
      "   **\n",
      "  ***\n",
      " ****\n",
      "*****\n"
     ]
    }
   ],
   "source": [
    "n=5\n",
    "for row in range (1,n+1):\n",
    "    print(' '*(n-row)+\"*\"*row)"
   ]
  },
  {
   "cell_type": "code",
   "execution_count": 1,
   "id": "2db38457-4537-4f3a-aa33-57abde247dc8",
   "metadata": {},
   "outputs": [
    {
     "name": "stdout",
     "output_type": "stream",
     "text": [
      "1  \n",
      "2 2  \n",
      "3 3 3  \n",
      "4 4 4 4  \n",
      "5 5 5 5 5  \n"
     ]
    }
   ],
   "source": [
    "n=5\n",
    "for i in range (1,n+1):\n",
    "    for j in range(i):\n",
    "        print(i,end=' ')\n",
    "    print(' ')\n",
    "        "
   ]
  },
  {
   "cell_type": "code",
   "execution_count": 13,
   "id": "6616fe25-879b-473f-ad4b-fb4164b6437e",
   "metadata": {},
   "outputs": [
    {
     "name": "stdin",
     "output_type": "stream",
     "text": [
      "enter the number 121\n"
     ]
    },
    {
     "ename": "NameError",
     "evalue": "name 'dig' is not defined",
     "output_type": "error",
     "traceback": [
      "\u001b[1;31m---------------------------------------------------------------------------\u001b[0m",
      "\u001b[1;31mNameError\u001b[0m                                 Traceback (most recent call last)",
      "\u001b[1;32m~\\AppData\\Local\\Temp\\ipykernel_17860\\4289687980.py\u001b[0m in \u001b[0;36m<module>\u001b[1;34m\u001b[0m\n\u001b[0;32m      3\u001b[0m \u001b[0mrev\u001b[0m\u001b[1;33m=\u001b[0m\u001b[1;36m0\u001b[0m\u001b[1;33m\u001b[0m\u001b[1;33m\u001b[0m\u001b[0m\n\u001b[0;32m      4\u001b[0m \u001b[1;32mwhile\u001b[0m \u001b[0mn\u001b[0m\u001b[1;33m>=\u001b[0m\u001b[1;36m0\u001b[0m\u001b[1;33m:\u001b[0m\u001b[1;33m\u001b[0m\u001b[1;33m\u001b[0m\u001b[0m\n\u001b[1;32m----> 5\u001b[1;33m     \u001b[0mdig\u001b[0m\u001b[1;33m=\u001b[0m\u001b[0mdig\u001b[0m\u001b[1;33m%\u001b[0m\u001b[1;36m10\u001b[0m\u001b[1;33m\u001b[0m\u001b[1;33m\u001b[0m\u001b[0m\n\u001b[0m\u001b[0;32m      6\u001b[0m     \u001b[0mrev\u001b[0m\u001b[1;33m=\u001b[0m\u001b[1;33m(\u001b[0m\u001b[0mrev\u001b[0m\u001b[1;33m*\u001b[0m\u001b[1;36m10\u001b[0m\u001b[1;33m)\u001b[0m\u001b[1;33m+\u001b[0m\u001b[0mdig\u001b[0m\u001b[1;33m\u001b[0m\u001b[1;33m\u001b[0m\u001b[0m\n\u001b[0;32m      7\u001b[0m     \u001b[0mtemp\u001b[0m\u001b[1;33m=\u001b[0m\u001b[0mtemp\u001b[0m\u001b[1;33m//\u001b[0m\u001b[1;36m10\u001b[0m\u001b[1;33m\u001b[0m\u001b[1;33m\u001b[0m\u001b[0m\n",
      "\u001b[1;31mNameError\u001b[0m: name 'dig' is not defined"
     ]
    }
   ],
   "source": [
    "n=int(input(\"enter the number\"))\n",
    "temp=n\n",
    "rev=0\n",
    "while n>=0:\n",
    "    dig=dig%10\n",
    "    rev=(rev*10)+dig\n",
    "    temp=temp//10\n",
    "if (rev==n):\n",
    "    print(\"palindrome\")\n",
    "else:\n",
    "    print(\"not a palindrome\")"
   ]
  },
  {
   "cell_type": "code",
   "execution_count": null,
   "id": "5743c877-ff13-4e68-8ac3-e3af16459e97",
   "metadata": {},
   "outputs": [],
   "source": [
    "\n"
   ]
  },
  {
   "cell_type": "code",
   "execution_count": null,
   "id": "3bd2ba3f-647e-48f5-845b-309b6a55c5b9",
   "metadata": {},
   "outputs": [],
   "source": [
    ")p"
   ]
  }
 ],
 "metadata": {
  "kernelspec": {
   "display_name": "Python 3 (ipykernel)",
   "language": "python",
   "name": "python3"
  },
  "language_info": {
   "codemirror_mode": {
    "name": "ipython",
    "version": 3
   },
   "file_extension": ".py",
   "mimetype": "text/x-python",
   "name": "python",
   "nbconvert_exporter": "python",
   "pygments_lexer": "ipython3",
   "version": "3.9.13"
  }
 },
 "nbformat": 4,
 "nbformat_minor": 5
}
